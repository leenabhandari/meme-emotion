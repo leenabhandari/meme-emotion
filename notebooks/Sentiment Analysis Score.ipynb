{
 "cells": [
  {
   "cell_type": "markdown",
   "metadata": {},
   "source": [
    "## Sentiment Analysis Score\n",
    "\n",
    "Predict the sentiment analysis label, using a deep learning model for each query/emotion inside the relations file"
   ]
  },
  {
   "cell_type": "code",
   "execution_count": 2,
   "metadata": {},
   "outputs": [],
   "source": [
    "# Add project path to the PYTHONPATH\n",
    "\n",
    "import os\n",
    "import sys\n",
    "from pathlib import Path\n",
    "\n",
    "sys.path.append(Path(os.path.join(os.path.abspath(''), '../')).resolve().as_posix())"
   ]
  },
  {
   "cell_type": "markdown",
   "metadata": {},
   "source": [
    "## Load Tokenizer\n",
    "\n",
    "Import and load the tokenizer from a `.pickle` file"
   ]
  },
  {
   "cell_type": "code",
   "execution_count": 3,
   "metadata": {},
   "outputs": [],
   "source": [
    "import pickle\n",
    "from pathlib import Path"
   ]
  },
  {
   "cell_type": "code",
   "execution_count": 4,
   "metadata": {},
   "outputs": [],
   "source": [
    "tokenizer_file = Path('../datasets/sentiment140/tokenizer.pickle').resolve()\n",
    "with tokenizer_file.open('rb') as file:\n",
    "    tokenizer = pickle.load(file)"
   ]
  },
  {
   "cell_type": "markdown",
   "metadata": {},
   "source": [
    "## Load Model\n",
    "\n",
    "Load the sentiment analysis model, using the saved weights"
   ]
  },
  {
   "cell_type": "code",
   "execution_count": 5,
   "metadata": {},
   "outputs": [],
   "source": [
    "from tensorflow.keras.layers import Input, Embedding, GRU\n",
    "from tensorflow.keras.layers import Dropout, GlobalMaxPooling1D\n",
    "from tensorflow.keras.layers import Bidirectional, Dense\n",
    "from tensorflow.keras.models import Sequential"
   ]
  },
  {
   "cell_type": "code",
   "execution_count": 6,
   "metadata": {},
   "outputs": [],
   "source": [
    "input_dim = min(tokenizer.num_words, len(tokenizer.word_index) + 1)\n",
    "embedding_dim = 200\n",
    "input_length = 100\n",
    "gru_units = 128\n",
    "gru_dropout = 0.1\n",
    "recurrent_dropout = 0.1\n",
    "dropout = 0.1"
   ]
  },
  {
   "cell_type": "code",
   "execution_count": 7,
   "metadata": {},
   "outputs": [],
   "source": [
    "model = Sequential()\n",
    "model.add(Embedding(\n",
    "    input_dim=input_dim,\n",
    "    output_dim=embedding_dim,\n",
    "    input_shape=(input_length,)\n",
    "))\n",
    "\n",
    "model.add(Bidirectional(GRU(\n",
    "    gru_units,\n",
    "    return_sequences=True,\n",
    "    dropout=gru_dropout,\n",
    "    recurrent_dropout=recurrent_dropout\n",
    ")))\n",
    "model.add(GlobalMaxPooling1D())\n",
    "model.add(Dense(32, activation='relu'))\n",
    "model.add(Dropout(dropout))\n",
    "\n",
    "model.add(Dense(1, activation='sigmoid'))"
   ]
  },
  {
   "cell_type": "code",
   "execution_count": 8,
   "metadata": {},
   "outputs": [],
   "source": [
    "weights_path = Path('../models/sentiment_analysis/gru_model.h5').resolve()\n",
    "model.load_weights(weights_path.as_posix())"
   ]
  },
  {
   "cell_type": "markdown",
   "metadata": {},
   "source": [
    "## Load Query Relations\n",
    "\n",
    "Load the relations between queries and emotions from a `.json` file"
   ]
  },
  {
   "cell_type": "code",
   "execution_count": 9,
   "metadata": {},
   "outputs": [],
   "source": [
    "import json"
   ]
  },
  {
   "cell_type": "code",
   "execution_count": 10,
   "metadata": {},
   "outputs": [],
   "source": [
    "relations_path = Path('../query_relations.json')\n",
    "with relations_path.open('r') as file:\n",
    "    relations = json.load(file)"
   ]
  },
  {
   "cell_type": "markdown",
   "metadata": {},
   "source": [
    "## Predict polarity\n",
    "\n",
    "Predict the polarity of the texts, using the sentiment analysis model"
   ]
  },
  {
   "cell_type": "code",
   "execution_count": 14,
   "metadata": {},
   "outputs": [],
   "source": [
    "from tensorflow.keras.preprocessing.sequence import pad_sequences\n",
    "from nlp import preprocess\n",
    "from tqdm import tqdm\n",
    "import pandas as pd\n",
    "import numpy as np\n",
    "import re"
   ]
  },
  {
   "cell_type": "code",
   "execution_count": 15,
   "metadata": {},
   "outputs": [],
   "source": [
    "dataset_dir = Path('../datasets/tweepy').resolve()"
   ]
  },
  {
   "cell_type": "code",
   "execution_count": 17,
   "metadata": {},
   "outputs": [
    {
     "name": "stderr",
     "output_type": "stream",
     "text": [
      "100%|██████████| 5/5 [01:05<00:00, 13.03s/it]\n"
     ]
    }
   ],
   "source": [
    "data_dict = {}\n",
    "\n",
    "query_dict = {\n",
    "    'query': [],\n",
    "    'mean': [],\n",
    "    'max': [],\n",
    "    'min': [],\n",
    "    'std': [],\n",
    "    'count': [],\n",
    "    'emotion': []\n",
    "}\n",
    "\n",
    "dir_files = os.listdir(dataset_dir)\n",
    "\n",
    "with tqdm(total=len(dir_files)) as t:\n",
    "    for filename in dir_files:\n",
    "        dataset = pd.read_csv(os.path.join(dataset_dir, filename))\n",
    "        cleaned_texts = preprocess(dataset.text, quiet=True)\n",
    "\n",
    "        query = re.findall(r'(#[^.]+|:.+:)', filename)[0]\n",
    "\n",
    "        predict_sequences = [text.split() for text in cleaned_texts]\n",
    "        list_tokenized_predict = tokenizer.texts_to_sequences(predict_sequences)\n",
    "        x_predict = pad_sequences(list_tokenized_predict, maxlen=100)\n",
    "\n",
    "        result = model.predict(x_predict)\n",
    "        \n",
    "        emotion = relations[query]\n",
    "        query_dict['query'].append(query)\n",
    "        query_dict['mean'].append(np.mean(result))\n",
    "        query_dict['max'].append(np.amax(result))\n",
    "        query_dict['min'].append(np.amin(result))\n",
    "        query_dict['count'].append(len(dataset))\n",
    "        query_dict['std'].append(np.std(result))\n",
    "        query_dict['emotion'].append(emotion)\n",
    "\n",
    "        if emotion in data_dict:\n",
    "            data_dict[emotion] = np.concatenate([data_dict[emotion], result])\n",
    "        else:\n",
    "            data_dict[emotion] = result\n",
    "        \n",
    "        t.update()"
   ]
  },
  {
   "cell_type": "markdown",
   "metadata": {},
   "source": [
    "## Print Results\n",
    "\n",
    "Print the queries/emotions and the values"
   ]
  },
  {
   "cell_type": "code",
   "execution_count": 18,
   "metadata": {
    "scrolled": false
   },
   "outputs": [
    {
     "data": {
      "text/html": [
       "<div>\n",
       "<style scoped>\n",
       "    .dataframe tbody tr th:only-of-type {\n",
       "        vertical-align: middle;\n",
       "    }\n",
       "\n",
       "    .dataframe tbody tr th {\n",
       "        vertical-align: top;\n",
       "    }\n",
       "\n",
       "    .dataframe thead th {\n",
       "        text-align: right;\n",
       "    }\n",
       "</style>\n",
       "<table border=\"1\" class=\"dataframe\">\n",
       "  <thead>\n",
       "    <tr style=\"text-align: right;\">\n",
       "      <th></th>\n",
       "      <th>query</th>\n",
       "      <th>mean</th>\n",
       "      <th>max</th>\n",
       "      <th>min</th>\n",
       "      <th>std</th>\n",
       "      <th>count</th>\n",
       "      <th>emotion</th>\n",
       "    </tr>\n",
       "  </thead>\n",
       "  <tbody>\n",
       "    <tr>\n",
       "      <th>0</th>\n",
       "      <td>#angry</td>\n",
       "      <td>0.324863</td>\n",
       "      <td>0.960293</td>\n",
       "      <td>0.01123</td>\n",
       "      <td>0.243057</td>\n",
       "      <td>455</td>\n",
       "      <td>anger</td>\n",
       "    </tr>\n",
       "  </tbody>\n",
       "</table>\n",
       "</div>"
      ],
      "text/plain": [
       "    query      mean       max      min       std  count emotion\n",
       "0  #angry  0.324863  0.960293  0.01123  0.243057    455   anger"
      ]
     },
     "metadata": {},
     "output_type": "display_data"
    },
    {
     "data": {
      "text/html": [
       "<div>\n",
       "<style scoped>\n",
       "    .dataframe tbody tr th:only-of-type {\n",
       "        vertical-align: middle;\n",
       "    }\n",
       "\n",
       "    .dataframe tbody tr th {\n",
       "        vertical-align: top;\n",
       "    }\n",
       "\n",
       "    .dataframe thead th {\n",
       "        text-align: right;\n",
       "    }\n",
       "</style>\n",
       "<table border=\"1\" class=\"dataframe\">\n",
       "  <thead>\n",
       "    <tr style=\"text-align: right;\">\n",
       "      <th></th>\n",
       "      <th>query</th>\n",
       "      <th>mean</th>\n",
       "      <th>max</th>\n",
       "      <th>min</th>\n",
       "      <th>std</th>\n",
       "      <th>count</th>\n",
       "      <th>emotion</th>\n",
       "    </tr>\n",
       "  </thead>\n",
       "  <tbody>\n",
       "    <tr>\n",
       "      <th>1</th>\n",
       "      <td>#excited</td>\n",
       "      <td>0.915030</td>\n",
       "      <td>0.998822</td>\n",
       "      <td>0.093613</td>\n",
       "      <td>0.120952</td>\n",
       "      <td>1926</td>\n",
       "      <td>joy</td>\n",
       "    </tr>\n",
       "    <tr>\n",
       "      <th>3</th>\n",
       "      <td>#joy</td>\n",
       "      <td>0.840753</td>\n",
       "      <td>0.998868</td>\n",
       "      <td>0.013331</td>\n",
       "      <td>0.189263</td>\n",
       "      <td>7673</td>\n",
       "      <td>joy</td>\n",
       "    </tr>\n",
       "  </tbody>\n",
       "</table>\n",
       "</div>"
      ],
      "text/plain": [
       "      query      mean       max       min       std  count emotion\n",
       "1  #excited  0.915030  0.998822  0.093613  0.120952   1926     joy\n",
       "3      #joy  0.840753  0.998868  0.013331  0.189263   7673     joy"
      ]
     },
     "metadata": {},
     "output_type": "display_data"
    },
    {
     "data": {
      "text/html": [
       "<div>\n",
       "<style scoped>\n",
       "    .dataframe tbody tr th:only-of-type {\n",
       "        vertical-align: middle;\n",
       "    }\n",
       "\n",
       "    .dataframe tbody tr th {\n",
       "        vertical-align: top;\n",
       "    }\n",
       "\n",
       "    .dataframe thead th {\n",
       "        text-align: right;\n",
       "    }\n",
       "</style>\n",
       "<table border=\"1\" class=\"dataframe\">\n",
       "  <thead>\n",
       "    <tr style=\"text-align: right;\">\n",
       "      <th></th>\n",
       "      <th>query</th>\n",
       "      <th>mean</th>\n",
       "      <th>max</th>\n",
       "      <th>min</th>\n",
       "      <th>std</th>\n",
       "      <th>count</th>\n",
       "      <th>emotion</th>\n",
       "    </tr>\n",
       "  </thead>\n",
       "  <tbody>\n",
       "    <tr>\n",
       "      <th>2</th>\n",
       "      <td>#fear</td>\n",
       "      <td>0.481924</td>\n",
       "      <td>0.988985</td>\n",
       "      <td>0.024805</td>\n",
       "      <td>0.205533</td>\n",
       "      <td>2041</td>\n",
       "      <td>fear</td>\n",
       "    </tr>\n",
       "  </tbody>\n",
       "</table>\n",
       "</div>"
      ],
      "text/plain": [
       "   query      mean       max       min       std  count emotion\n",
       "2  #fear  0.481924  0.988985  0.024805  0.205533   2041    fear"
      ]
     },
     "metadata": {},
     "output_type": "display_data"
    },
    {
     "data": {
      "text/html": [
       "<div>\n",
       "<style scoped>\n",
       "    .dataframe tbody tr th:only-of-type {\n",
       "        vertical-align: middle;\n",
       "    }\n",
       "\n",
       "    .dataframe tbody tr th {\n",
       "        vertical-align: top;\n",
       "    }\n",
       "\n",
       "    .dataframe thead th {\n",
       "        text-align: right;\n",
       "    }\n",
       "</style>\n",
       "<table border=\"1\" class=\"dataframe\">\n",
       "  <thead>\n",
       "    <tr style=\"text-align: right;\">\n",
       "      <th></th>\n",
       "      <th>query</th>\n",
       "      <th>mean</th>\n",
       "      <th>max</th>\n",
       "      <th>min</th>\n",
       "      <th>std</th>\n",
       "      <th>count</th>\n",
       "      <th>emotion</th>\n",
       "    </tr>\n",
       "  </thead>\n",
       "  <tbody>\n",
       "    <tr>\n",
       "      <th>4</th>\n",
       "      <td>#sad</td>\n",
       "      <td>0.084684</td>\n",
       "      <td>0.946671</td>\n",
       "      <td>0.001595</td>\n",
       "      <td>0.1204</td>\n",
       "      <td>7087</td>\n",
       "      <td>sadness</td>\n",
       "    </tr>\n",
       "  </tbody>\n",
       "</table>\n",
       "</div>"
      ],
      "text/plain": [
       "  query      mean       max       min     std  count  emotion\n",
       "4  #sad  0.084684  0.946671  0.001595  0.1204   7087  sadness"
      ]
     },
     "metadata": {},
     "output_type": "display_data"
    }
   ],
   "source": [
    "df = pd.DataFrame(data=query_dict)\n",
    "for emotion in df.emotion.unique():\n",
    "    display(df[df.emotion == emotion])"
   ]
  },
  {
   "cell_type": "code",
   "execution_count": 19,
   "metadata": {},
   "outputs": [
    {
     "data": {
      "text/html": [
       "<div>\n",
       "<style scoped>\n",
       "    .dataframe tbody tr th:only-of-type {\n",
       "        vertical-align: middle;\n",
       "    }\n",
       "\n",
       "    .dataframe tbody tr th {\n",
       "        vertical-align: top;\n",
       "    }\n",
       "\n",
       "    .dataframe thead th {\n",
       "        text-align: right;\n",
       "    }\n",
       "</style>\n",
       "<table border=\"1\" class=\"dataframe\">\n",
       "  <thead>\n",
       "    <tr style=\"text-align: right;\">\n",
       "      <th></th>\n",
       "      <th>emotion</th>\n",
       "      <th>mean</th>\n",
       "      <th>max</th>\n",
       "      <th>min</th>\n",
       "      <th>std</th>\n",
       "      <th>count</th>\n",
       "    </tr>\n",
       "  </thead>\n",
       "  <tbody>\n",
       "    <tr>\n",
       "      <th>0</th>\n",
       "      <td>anger</td>\n",
       "      <td>0.324863</td>\n",
       "      <td>0.960293</td>\n",
       "      <td>0.011230</td>\n",
       "      <td>0.243057</td>\n",
       "      <td>455</td>\n",
       "    </tr>\n",
       "    <tr>\n",
       "      <th>1</th>\n",
       "      <td>joy</td>\n",
       "      <td>0.855656</td>\n",
       "      <td>0.998868</td>\n",
       "      <td>0.013331</td>\n",
       "      <td>0.180149</td>\n",
       "      <td>9599</td>\n",
       "    </tr>\n",
       "    <tr>\n",
       "      <th>2</th>\n",
       "      <td>fear</td>\n",
       "      <td>0.481924</td>\n",
       "      <td>0.988985</td>\n",
       "      <td>0.024805</td>\n",
       "      <td>0.205533</td>\n",
       "      <td>2041</td>\n",
       "    </tr>\n",
       "    <tr>\n",
       "      <th>3</th>\n",
       "      <td>sadness</td>\n",
       "      <td>0.084684</td>\n",
       "      <td>0.946671</td>\n",
       "      <td>0.001595</td>\n",
       "      <td>0.120400</td>\n",
       "      <td>7087</td>\n",
       "    </tr>\n",
       "  </tbody>\n",
       "</table>\n",
       "</div>"
      ],
      "text/plain": [
       "   emotion      mean       max       min       std  count\n",
       "0    anger  0.324863  0.960293  0.011230  0.243057    455\n",
       "1      joy  0.855656  0.998868  0.013331  0.180149   9599\n",
       "2     fear  0.481924  0.988985  0.024805  0.205533   2041\n",
       "3  sadness  0.084684  0.946671  0.001595  0.120400   7087"
      ]
     },
     "metadata": {},
     "output_type": "display_data"
    }
   ],
   "source": [
    "emotion_dict = {\n",
    "    'emotion': [],\n",
    "    'mean': [],\n",
    "    'max': [],\n",
    "    'min': [],\n",
    "    'std': [],\n",
    "    'count': []\n",
    "}\n",
    "\n",
    "for emotion, result in data_dict.items():\n",
    "    emotion_dict['emotion'].append(emotion)\n",
    "    emotion_dict['mean'].append(np.mean(result))\n",
    "    emotion_dict['max'].append(np.amax(result))\n",
    "    emotion_dict['min'].append(np.amin(result))\n",
    "    emotion_dict['std'].append(np.std(result))\n",
    "    emotion_dict['count'].append(len(result))\n",
    "    \n",
    "emotion_df = pd.DataFrame(data=emotion_dict)\n",
    "display(emotion_df)"
   ]
  },
  {
   "cell_type": "code",
   "execution_count": null,
   "metadata": {},
   "outputs": [],
   "source": []
  }
 ],
 "metadata": {
  "kernelspec": {
   "display_name": "Python 3",
   "language": "python",
   "name": "python3"
  },
  "language_info": {
   "codemirror_mode": {
    "name": "ipython",
    "version": 3
   },
   "file_extension": ".py",
   "mimetype": "text/x-python",
   "name": "python",
   "nbconvert_exporter": "python",
   "pygments_lexer": "ipython3",
   "version": "3.8.3"
  }
 },
 "nbformat": 4,
 "nbformat_minor": 2
}
