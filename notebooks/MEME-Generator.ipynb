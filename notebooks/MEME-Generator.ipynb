{
 "cells": [
  {
   "cell_type": "code",
   "execution_count": 5,
   "metadata": {},
   "outputs": [],
   "source": [
    "import requests"
   ]
  },
  {
   "cell_type": "code",
   "execution_count": 25,
   "metadata": {},
   "outputs": [],
   "source": [
    "category = 'entertainment'\n",
    "country = 'in'"
   ]
  },
  {
   "cell_type": "code",
   "execution_count": 26,
   "metadata": {},
   "outputs": [],
   "source": [
    "response = requests.get(\"http://newsapi.org/v2/top-headlines?country=\"+country+\"&category=\"+category+\"&apiKey=469e3b5dc7b44bf6ae90867fe0e8fd5c\")"
   ]
  },
  {
   "cell_type": "code",
   "execution_count": 27,
   "metadata": {},
   "outputs": [],
   "source": [
    "data = response.json()"
   ]
  },
  {
   "cell_type": "code",
   "execution_count": 28,
   "metadata": {},
   "outputs": [],
   "source": [
    "from types import SimpleNamespace\n",
    "import json"
   ]
  },
  {
   "cell_type": "code",
   "execution_count": 29,
   "metadata": {},
   "outputs": [],
   "source": [
    "articles = data['articles']"
   ]
  },
  {
   "cell_type": "code",
   "execution_count": 30,
   "metadata": {},
   "outputs": [],
   "source": [
    "news = []\n",
    "for article in articles:\n",
    "    title_parts = article['title'].split(\" - \")\n",
    "    text = title_parts[0] + article['description']\n",
    "    news.append(text)"
   ]
  },
  {
   "cell_type": "code",
   "execution_count": 31,
   "metadata": {},
   "outputs": [],
   "source": [
    "import os\n",
    "import sys\n",
    "from pathlib import Path\n",
    "\n",
    "sys.path.append(Path(os.path.join(os.path.abspath(''), '../')).resolve().as_posix())\n",
    "import pickle\n",
    "\n",
    "tokenizer_path = Path('../datasets/sentiment_analysis/tokenizer.pickle').resolve()\n",
    "with tokenizer_path.open('rb') as file:\n",
    "    tokenizer = pickle.load(file)\n",
    "\n",
    "from tensorflow.keras.layers import Input, Embedding, SpatialDropout1D, LSTM\n",
    "from tensorflow.keras.layers import GlobalAveragePooling1D, GlobalMaxPooling1D\n",
    "from tensorflow.keras.layers import Bidirectional, Conv1D, Dense, concatenate\n",
    "from tensorflow.keras.models import Model\n",
    "\n",
    "input_dim = min(tokenizer.num_words, len(tokenizer.word_index) + 1)\n",
    "num_classes = 4\n",
    "embedding_dim = 500\n",
    "input_length = 100\n",
    "lstm_units = 128\n",
    "lstm_dropout = 0.1\n",
    "recurrent_dropout = 0.1\n",
    "spatial_dropout=0.2\n",
    "filters=64\n",
    "kernel_size=3\n",
    "\n",
    "input_layer = Input(shape=(input_length,))\n",
    "output_layer = Embedding(\n",
    "  input_dim=input_dim,\n",
    "  output_dim=embedding_dim,\n",
    "  input_shape=(input_length,)\n",
    ")(input_layer)\n",
    "\n",
    "output_layer = SpatialDropout1D(spatial_dropout)(output_layer)\n",
    "\n",
    "output_layer = Bidirectional(\n",
    "LSTM(lstm_units, return_sequences=True,\n",
    "     dropout=lstm_dropout, recurrent_dropout=recurrent_dropout)\n",
    ")(output_layer)\n",
    "output_layer = Conv1D(filters, kernel_size=kernel_size, padding='valid',\n",
    "                    kernel_initializer='glorot_uniform')(output_layer)\n",
    "\n",
    "avg_pool = GlobalAveragePooling1D()(output_layer)\n",
    "max_pool = GlobalMaxPooling1D()(output_layer)\n",
    "output_layer = concatenate([avg_pool, max_pool])\n",
    "\n",
    "output_layer = Dense(num_classes, activation='softmax')(output_layer)\n",
    "\n",
    "model = Model(input_layer, output_layer)\n",
    "\n",
    "model_weights_path = Path('../models/emotion_recognition/model_weights.h5').resolve()\n",
    "model.load_weights(model_weights_path.as_posix())\n",
    "\n",
    "import pandas as pd\n",
    "\n",
    "encoder_path = Path('../models/emotion_recognition/encoder.pickle').resolve()\n",
    "with encoder_path.open('rb') as file:\n",
    "    encoder = pickle.load(file)\n",
    "    \n",
    "from nlp import preprocess\n",
    "from tensorflow.keras.preprocessing.sequence import pad_sequences\n",
    "\n",
    "import numpy as np\n"
   ]
  },
  {
   "cell_type": "code",
   "execution_count": 32,
   "metadata": {},
   "outputs": [],
   "source": [
    "subs = \"There was an idea, to bring together a group of remarkable people, to see if we could become something more. So when they needed us we could fight the battles that they never could. In time, you'll know what it's like to lose. To feel so desperately that you're right, that to fail all the same. Dread it, Run from it. Destiny still arrives. Evacuate the city. Engage all defences and get this man a shield. Fun isn't something one considers the balance in the universe. But this does put a smile on my face. Who the hell are you guys?\"\n",
    "dialogs = subs.split(\". \")"
   ]
  },
  {
   "cell_type": "code",
   "execution_count": 14,
   "metadata": {},
   "outputs": [
    {
     "name": "stdout",
     "output_type": "stream",
     "text": [
      "anger: 0.13135451\n",
      "fear: 0.75693786\n",
      "joy: 0.022167336\n",
      "sadness: 0.08954038\n"
     ]
    }
   ],
   "source": [
    "selected = dialogs[9]\n",
    "sequences = [text.split() for text in selected]\n",
    "list_tokenized = tokenizer.texts_to_sequences(sequences)\n",
    "x_data = pad_sequences(list_tokenized, maxlen=100)\n",
    "\n",
    "y_pred = model.predict(x_data)\n",
    "emo = dict()\n",
    "for index, value in enumerate(np.sum(y_pred, axis=0) / len(y_pred)):\n",
    "    print(encoder.classes_[index] + \": \" + str(value))\n",
    "    emo[encoder.classes_[index]]=value"
   ]
  },
  {
   "cell_type": "code",
   "execution_count": 55,
   "metadata": {},
   "outputs": [],
   "source": [
    "min_diff = 5\n",
    "ans = 0\n",
    "for i in range(len(news)):\n",
    "    cleaned_data = news[i]\n",
    "    sequences = [text.split() for text in cleaned_data]\n",
    "    list_tokenized = tokenizer.texts_to_sequences(sequences)\n",
    "    x_data = pad_sequences(list_tokenized, maxlen=100)\n",
    "\n",
    "    y_pred = model.predict(x_data)\n",
    "    \n",
    "    cur_diff = 0\n",
    "    for index, value in enumerate(np.sum(y_pred, axis=0) / len(y_pred)):\n",
    "        cur_diff += abs(emo[encoder.classes_[index]] - value)\n",
    "\n",
    "    if cur_diff < min_diff:\n",
    "        ans = i\n",
    "        min_diff = cur_diff\n"
   ]
  },
  {
   "cell_type": "code",
   "execution_count": 56,
   "metadata": {},
   "outputs": [
    {
     "name": "stdout",
     "output_type": "stream",
     "text": [
      "Horoscope today: December 27, 2020Vogue Daily Horoscope, 27th December 2020: Today's prediction for all zodiac signs: Aries, Taurus, Gemini, Cancer, Leo, Virgo. Libra, Scorpio, Sagittarius, Capricorn, Aquarius, Pisces. Check out our daily horoscope for free : But this does put a smile on my face\n"
     ]
    }
   ],
   "source": [
    "print(news[ans] + \" : \" + selected)"
   ]
  },
  {
   "cell_type": "code",
   "execution_count": 57,
   "metadata": {},
   "outputs": [
    {
     "name": "stdout",
     "output_type": "stream",
     "text": [
      "anger: 0.13265857\n",
      "fear: 0.7518926\n",
      "joy: 0.021220021\n",
      "sadness: 0.09422911\n"
     ]
    }
   ],
   "source": [
    "cleaned_data = news[1]\n",
    "sequences = [text.split() for text in cleaned_data]\n",
    "list_tokenized = tokenizer.texts_to_sequences(sequences)\n",
    "x_data = pad_sequences(list_tokenized, maxlen=100)\n",
    "\n",
    "y_pred = model.predict(x_data)\n",
    "for index, value in enumerate(np.sum(y_pred, axis=0) / len(y_pred)):\n",
    "    print(encoder.classes_[index] + \": \" + str(value))"
   ]
  },
  {
   "cell_type": "code",
   "execution_count": 10,
   "metadata": {},
   "outputs": [],
   "source": [
    "import cv2 \n",
    "\n",
    "def generateResult(videoClip,text, dialog):\n",
    "    cap = cv2.VideoCapture(videoClip) \n",
    "\n",
    "    frame_width = int(cap.get(3)) \n",
    "    frame_height = int(cap.get(4)) \n",
    "\n",
    "    size = (frame_width, frame_height) \n",
    "   \n",
    "    # Below VideoWriter object will create \n",
    "    # a frame of above defined The output  \n",
    "    # is stored in 'filename.avi' file. \n",
    "    out = cv2.VideoWriter('Meme_'+videoClip[:8] + text[:8]+ '.avi',cv2.VideoWriter_fourcc('M','J','P','G'), 10, (frame_width,frame_height))\n",
    "\n",
    "\n",
    "    while(True): \n",
    "\n",
    "        # Capture frames in the video \n",
    "        ret, frame = cap.read() \n",
    "        if ret == False:\n",
    "            break\n",
    "\n",
    "\n",
    "\n",
    "        # describe the type of font \n",
    "        # to be used. \n",
    "        font = cv2.FONT_HERSHEY_SIMPLEX \n",
    "\n",
    "        # Use putText() method for \n",
    "        # inserting text on video \n",
    "\n",
    "        cv2.putText(frame,  \n",
    "                    text,  \n",
    "                    (50, 50),  \n",
    "                    font, 0.8,  \n",
    "                    (100, 250, 230),  \n",
    "                    2,  \n",
    "                    cv2.LINE_4) \n",
    "        \n",
    "        cv2.putText(frame,  \n",
    "                    dialog,  \n",
    "                    (50, 150),  \n",
    "                    font, 0.7,  \n",
    "                    (0, 255, 255),  \n",
    "                    2,  \n",
    "                    cv2.LINE_4) \n",
    "\n",
    "        # Display the resulting frame \n",
    "        cv2.imshow('resultOutput', frame) \n",
    "        out.write(frame)\n",
    "\n",
    "        # creating 'q' as the quit  \n",
    "        # button for the video \n",
    "        if cv2.waitKey(22) & 0xFF == ord('q'): \n",
    "            break\n",
    "\n",
    "    # release the cap object \n",
    "    cap.release() \n",
    "    # close all windows \n",
    "    cv2.destroyAllWindows() \n",
    "    out.release()\n",
    "\n",
    "    "
   ]
  },
  {
   "cell_type": "code",
   "execution_count": 36,
   "metadata": {},
   "outputs": [],
   "source": [
    "def insert_newlines(string, every=64):\n",
    "    return '\\n'.join(string[i:i+every] for i in range(0, len(string), every))"
   ]
  },
  {
   "cell_type": "code",
   "execution_count": 40,
   "metadata": {},
   "outputs": [],
   "source": [
    "def generateFinalOutput(videoClip,text, dialog):\n",
    "    clip = VideoFileClip(videoClip)  \n",
    "    text = insert_newlines(text)\n",
    "    dialog = insert_newlines(dialog)\n",
    "    time = clip.duration\n",
    "    txt_clip = TextClip(text, fontsize = 22, color = 'white') \n",
    "    txt_clip2 = TextClip(dialog, fontsize = 15, color = 'yellow')\n",
    "    txt_clip = txt_clip.set_pos('top').set_duration(time) \n",
    "    txt_clip2 = txt_clip2.set_pos('bottom').set_duration(time) \n",
    "    video = CompositeVideoClip([clip, txt_clip,txt_clip2])  \n",
    "    video.write_videofile('Meme_'+videoClip[:8] + text[:8]+ '.mp4')"
   ]
  },
  {
   "cell_type": "code",
   "execution_count": 41,
   "metadata": {},
   "outputs": [],
   "source": [
    "def getMeme(dialogs,news):\n",
    "    movie_line = 0\n",
    "    pairs = dict()\n",
    "    global_diff = 6\n",
    "    for j in range(len(dialogs)):\n",
    "        selected = dialogs[j]\n",
    "        sequences = [text.split() for text in selected]\n",
    "        list_tokenized = tokenizer.texts_to_sequences(sequences)\n",
    "        x_data = pad_sequences(list_tokenized, maxlen=100)\n",
    "\n",
    "        y_pred = model.predict(x_data)\n",
    "        emo = dict()\n",
    "        for index, value in enumerate(np.sum(y_pred, axis=0) / len(y_pred)):\n",
    "            print(encoder.classes_[index] + \": \" + str(value))\n",
    "            emo[encoder.classes_[index]]=value\n",
    "\n",
    "        min_diff = 3\n",
    "        news_line = 0\n",
    "        for i in range(len(news)):\n",
    "            cleaned_data = news[i]\n",
    "            sequences = [text.split() for text in cleaned_data]\n",
    "            list_tokenized = tokenizer.texts_to_sequences(sequences)\n",
    "            x_data = pad_sequences(list_tokenized, maxlen=100)\n",
    "\n",
    "            y_pred = model.predict(x_data)\n",
    "\n",
    "            cur_diff = 0\n",
    "            for index, value in enumerate(np.sum(y_pred, axis=0) / len(y_pred)):\n",
    "                cur_diff += abs(emo[encoder.classes_[index]] - value)\n",
    "\n",
    "            if cur_diff < min_diff:\n",
    "                news_line = i\n",
    "                min_diff = cur_diff\n",
    "\n",
    "        if min_diff < global_diff:\n",
    "            movie_line = j\n",
    "            global_diff = min_diff\n",
    "            \n",
    "        disp = articles[news_line]['title'] + \" : \" + dialogs[j]\n",
    "        print(articles[news_line]['title'] + \" : \" + dialogs[j] )\n",
    "        text = insert_newlines(disp,40)\n",
    "        generateFinalOutput(dialogs[j][:8] + '.mp4', articles[news_line]['title'], dialogs[j] )\n",
    "        pairs[j] = news_line\n",
    "    \n",
    "    print(\"Final Output --> \"+ news[pairs[movie_line]] + \" : \" + dialogs[movie_line])\n"
   ]
  },
  {
   "cell_type": "code",
   "execution_count": 42,
   "metadata": {},
   "outputs": [
    {
     "name": "stdout",
     "output_type": "stream",
     "text": [
      "anger: 0.13230877\n",
      "fear: 0.75031745\n",
      "joy: 0.020764206\n",
      "sadness: 0.0966099\n",
      "Bigg Boss 14: After Vikas Gupta talks about his ex, Priyank Sharma; fans speculate that he's been paid Rs. 15 - Bollywood Life : There was an idea, to bring together a group of remarkable people, to see if we could become something more\n"
     ]
    },
    {
     "name": "stderr",
     "output_type": "stream",
     "text": [
      "chunk:   4%|▍         | 15/343 [00:00<00:02, 148.58it/s, now=None]"
     ]
    },
    {
     "name": "stdout",
     "output_type": "stream",
     "text": [
      "Moviepy - Building video Meme_There waBigg Bos.mp4.\n",
      "MoviePy - Writing audio in Meme_There waBigg BosTEMP_MPY_wvf_snd.mp3\n"
     ]
    },
    {
     "name": "stderr",
     "output_type": "stream",
     "text": [
      "t:   3%|▎         | 12/373 [00:00<00:03, 114.12it/s, now=None]     "
     ]
    },
    {
     "name": "stdout",
     "output_type": "stream",
     "text": [
      "MoviePy - Done.\n",
      "Moviepy - Writing video Meme_There waBigg Bos.mp4\n",
      "\n"
     ]
    },
    {
     "name": "stderr",
     "output_type": "stream",
     "text": [
      "                                                               \r"
     ]
    },
    {
     "name": "stdout",
     "output_type": "stream",
     "text": [
      "Moviepy - Done !\n",
      "Moviepy - video ready Meme_There waBigg Bos.mp4\n",
      "anger: 0.13240752\n",
      "fear: 0.75724274\n",
      "joy: 0.022118635\n",
      "sadness: 0.08823136\n",
      "Parvathy-starrer Varthamanam, set in JNU, rejected by Kerala censor board - The Indian Express : So when they needed us we could fight the battles that they never could\n"
     ]
    },
    {
     "name": "stderr",
     "output_type": "stream",
     "text": [
      "chunk:   1%|          | 2/208 [00:00<00:13, 15.69it/s, now=None]"
     ]
    },
    {
     "name": "stdout",
     "output_type": "stream",
     "text": [
      "Moviepy - Building video Meme_So when Parvathy.mp4.\n",
      "MoviePy - Writing audio in Meme_So when ParvathyTEMP_MPY_wvf_snd.mp3\n"
     ]
    },
    {
     "name": "stderr",
     "output_type": "stream",
     "text": [
      "t:   5%|▍         | 11/227 [00:00<00:02, 104.50it/s, now=None]    "
     ]
    },
    {
     "name": "stdout",
     "output_type": "stream",
     "text": [
      "MoviePy - Done.\n",
      "Moviepy - Writing video Meme_So when Parvathy.mp4\n",
      "\n"
     ]
    },
    {
     "name": "stderr",
     "output_type": "stream",
     "text": [
      "                                                               \r"
     ]
    },
    {
     "name": "stdout",
     "output_type": "stream",
     "text": [
      "Moviepy - Done !\n",
      "Moviepy - video ready Meme_So when Parvathy.mp4\n",
      "anger: 0.13177775\n",
      "fear: 0.7610933\n",
      "joy: 0.022968303\n",
      "sadness: 0.0841608\n",
      "Parvathy-starrer Varthamanam, set in JNU, rejected by Kerala censor board - The Indian Express : In time, you'll know what it's like to lose\n"
     ]
    },
    {
     "name": "stderr",
     "output_type": "stream",
     "text": [
      "chunk:  23%|██▎       | 28/122 [00:00<00:00, 216.45it/s, now=None]"
     ]
    },
    {
     "name": "stdout",
     "output_type": "stream",
     "text": [
      "Moviepy - Building video Meme_In time,Parvathy.mp4.\n",
      "MoviePy - Writing audio in Meme_In time,ParvathyTEMP_MPY_wvf_snd.mp3\n"
     ]
    },
    {
     "name": "stderr",
     "output_type": "stream",
     "text": [
      "t:   2%|▏         | 2/133 [00:00<00:07, 18.33it/s, now=None]       "
     ]
    },
    {
     "name": "stdout",
     "output_type": "stream",
     "text": [
      "MoviePy - Done.\n",
      "Moviepy - Writing video Meme_In time,Parvathy.mp4\n",
      "\n"
     ]
    },
    {
     "name": "stderr",
     "output_type": "stream",
     "text": [
      "                                                              \r"
     ]
    },
    {
     "name": "stdout",
     "output_type": "stream",
     "text": [
      "Moviepy - Done !\n",
      "Moviepy - video ready Meme_In time,Parvathy.mp4\n",
      "anger: 0.13157234\n",
      "fear: 0.7553917\n",
      "joy: 0.021886934\n",
      "sadness: 0.09114935\n",
      "Som Sekhar's most loved companion passes away suddenly- heart touching video - Tamil News - IndiaGlitz.com : To feel so desperately that you're right, that to fail all the same\n"
     ]
    },
    {
     "name": "stderr",
     "output_type": "stream",
     "text": [
      "chunk:   7%|▋         | 10/150 [00:00<00:01, 99.32it/s, now=None]"
     ]
    },
    {
     "name": "stdout",
     "output_type": "stream",
     "text": [
      "Moviepy - Building video Meme_To feel Som Sekh.mp4.\n",
      "MoviePy - Writing audio in Meme_To feel Som SekhTEMP_MPY_wvf_snd.mp3\n"
     ]
    },
    {
     "name": "stderr",
     "output_type": "stream",
     "text": [
      "t:   1%|          | 2/164 [00:00<00:09, 17.46it/s, now=None]      "
     ]
    },
    {
     "name": "stdout",
     "output_type": "stream",
     "text": [
      "MoviePy - Done.\n",
      "Moviepy - Writing video Meme_To feel Som Sekh.mp4\n",
      "\n"
     ]
    },
    {
     "name": "stderr",
     "output_type": "stream",
     "text": [
      "                                                              \r"
     ]
    },
    {
     "name": "stdout",
     "output_type": "stream",
     "text": [
      "Moviepy - Done !\n",
      "Moviepy - video ready Meme_To feel Som Sekh.mp4\n",
      "anger: 0.13294794\n",
      "fear: 0.75034225\n",
      "joy: 0.020553686\n",
      "sadness: 0.096156076\n",
      "Ayushmann Khurrana is spending sunny winter days with kisses from wife Tahira Kashyap, plays cricket... - Hindustan Times : Dread it, Run from it\n"
     ]
    },
    {
     "name": "stderr",
     "output_type": "stream",
     "text": [
      "chunk:   2%|▏         | 2/124 [00:00<00:10, 12.11it/s, now=None]"
     ]
    },
    {
     "name": "stdout",
     "output_type": "stream",
     "text": [
      "Moviepy - Building video Meme_Dread itAyushman.mp4.\n",
      "MoviePy - Writing audio in Meme_Dread itAyushmanTEMP_MPY_wvf_snd.mp3\n"
     ]
    },
    {
     "name": "stderr",
     "output_type": "stream",
     "text": [
      "t:   1%|▏         | 2/135 [00:00<00:10, 12.90it/s, now=None]     "
     ]
    },
    {
     "name": "stdout",
     "output_type": "stream",
     "text": [
      "MoviePy - Done.\n",
      "Moviepy - Writing video Meme_Dread itAyushman.mp4\n",
      "\n"
     ]
    },
    {
     "name": "stderr",
     "output_type": "stream",
     "text": [
      "                                                              \r"
     ]
    },
    {
     "name": "stdout",
     "output_type": "stream",
     "text": [
      "Moviepy - Done !\n",
      "Moviepy - video ready Meme_Dread itAyushman.mp4\n",
      "anger: 0.13421217\n",
      "fear: 0.7557998\n",
      "joy: 0.021604886\n",
      "sadness: 0.08838318\n",
      "Amitabh Bachchan apologises to fan for using her poem without due credit: Latter says want your love not sorry - PINKVILLA : Destiny still arrives\n"
     ]
    },
    {
     "name": "stderr",
     "output_type": "stream",
     "text": [
      "chunk:   2%|▏         | 2/96 [00:00<00:07, 12.89it/s, now=None]"
     ]
    },
    {
     "name": "stdout",
     "output_type": "stream",
     "text": [
      "Moviepy - Building video Meme_Destiny Amitabh .mp4.\n",
      "MoviePy - Writing audio in Meme_Destiny Amitabh TEMP_MPY_wvf_snd.mp3\n"
     ]
    },
    {
     "name": "stderr",
     "output_type": "stream",
     "text": [
      "t:   2%|▏         | 2/105 [00:00<00:06, 16.93it/s, now=None]    "
     ]
    },
    {
     "name": "stdout",
     "output_type": "stream",
     "text": [
      "MoviePy - Done.\n",
      "Moviepy - Writing video Meme_Destiny Amitabh .mp4\n",
      "\n"
     ]
    },
    {
     "name": "stderr",
     "output_type": "stream",
     "text": [
      "                                                              \r"
     ]
    },
    {
     "name": "stdout",
     "output_type": "stream",
     "text": [
      "Moviepy - Done !\n",
      "Moviepy - video ready Meme_Destiny Amitabh .mp4\n",
      "anger: 0.1333073\n",
      "fear: 0.75831497\n",
      "joy: 0.022379177\n",
      "sadness: 0.08599846\n",
      "Parvathy-starrer Varthamanam, set in JNU, rejected by Kerala censor board - The Indian Express : Evacuate the city\n"
     ]
    },
    {
     "name": "stderr",
     "output_type": "stream",
     "text": [
      "chunk:   3%|▎         | 2/76 [00:00<00:03, 18.79it/s, now=None]"
     ]
    },
    {
     "name": "stdout",
     "output_type": "stream",
     "text": [
      "Moviepy - Building video Meme_EvacuateParvathy.mp4.\n",
      "MoviePy - Writing audio in Meme_EvacuateParvathyTEMP_MPY_wvf_snd.mp3\n"
     ]
    },
    {
     "name": "stderr",
     "output_type": "stream",
     "text": [
      "t:   2%|▏         | 2/82 [00:00<00:04, 19.36it/s, now=None]     "
     ]
    },
    {
     "name": "stdout",
     "output_type": "stream",
     "text": [
      "MoviePy - Done.\n",
      "Moviepy - Writing video Meme_EvacuateParvathy.mp4\n",
      "\n"
     ]
    },
    {
     "name": "stderr",
     "output_type": "stream",
     "text": [
      "                                                            \r"
     ]
    },
    {
     "name": "stdout",
     "output_type": "stream",
     "text": [
      "Moviepy - Done !\n",
      "Moviepy - video ready Meme_EvacuateParvathy.mp4\n",
      "anger: 0.1350403\n",
      "fear: 0.7442698\n",
      "joy: 0.020878615\n",
      "sadness: 0.09981136\n",
      "Gauahar Khan, Zaid Darbar Get Grand Welcome as Family Members Sing 'Tu Jo Mila,' Watch Video - News18 : Engage all defences and get this man a shield\n"
     ]
    },
    {
     "name": "stderr",
     "output_type": "stream",
     "text": [
      "chunk:  19%|█▉        | 27/142 [00:00<00:00, 269.86it/s, now=None]"
     ]
    },
    {
     "name": "stdout",
     "output_type": "stream",
     "text": [
      "Moviepy - Building video Meme_Engage aGauahar .mp4.\n",
      "MoviePy - Writing audio in Meme_Engage aGauahar TEMP_MPY_wvf_snd.mp3\n"
     ]
    },
    {
     "name": "stderr",
     "output_type": "stream",
     "text": [
      "t:   1%|▏         | 2/154 [00:00<00:08, 17.68it/s, now=None]       "
     ]
    },
    {
     "name": "stdout",
     "output_type": "stream",
     "text": [
      "MoviePy - Done.\n",
      "Moviepy - Writing video Meme_Engage aGauahar .mp4\n",
      "\n"
     ]
    },
    {
     "name": "stderr",
     "output_type": "stream",
     "text": [
      "                                                              \r"
     ]
    },
    {
     "name": "stdout",
     "output_type": "stream",
     "text": [
      "Moviepy - Done !\n",
      "Moviepy - video ready Meme_Engage aGauahar .mp4\n",
      "anger: 0.1340147\n",
      "fear: 0.75192827\n",
      "joy: 0.021538613\n",
      "sadness: 0.092518605\n",
      "Shoot of Dulquer Salmaan, Aditi Rao Hydari’s Hey Sinamika wrapped up, see pics - Hindustan Times : Fun isn't something one considers the balance in the universe\n"
     ]
    },
    {
     "name": "stderr",
     "output_type": "stream",
     "text": [
      "chunk:  14%|█▍        | 21/152 [00:00<00:00, 139.36it/s, now=None]"
     ]
    },
    {
     "name": "stdout",
     "output_type": "stream",
     "text": [
      "Moviepy - Building video Meme_Fun isn'Shoot of.mp4.\n",
      "MoviePy - Writing audio in Meme_Fun isn'Shoot ofTEMP_MPY_wvf_snd.mp3\n"
     ]
    },
    {
     "name": "stderr",
     "output_type": "stream",
     "text": [
      "t:   1%|          | 2/165 [00:00<00:08, 18.26it/s, now=None]      "
     ]
    },
    {
     "name": "stdout",
     "output_type": "stream",
     "text": [
      "MoviePy - Done.\n",
      "Moviepy - Writing video Meme_Fun isn'Shoot of.mp4\n",
      "\n"
     ]
    },
    {
     "name": "stderr",
     "output_type": "stream",
     "text": [
      "                                                              \r"
     ]
    },
    {
     "name": "stdout",
     "output_type": "stream",
     "text": [
      "Moviepy - Done !\n",
      "Moviepy - video ready Meme_Fun isn'Shoot of.mp4\n",
      "anger: 0.13067813\n",
      "fear: 0.7585651\n",
      "joy: 0.021767307\n",
      "sadness: 0.08898952\n",
      "Amitabh Bachchan apologises to fan for using her poem without due credit: Latter says want your love not sorry - PINKVILLA : But this does put a smile on my face\n"
     ]
    },
    {
     "name": "stderr",
     "output_type": "stream",
     "text": [
      "chunk:   1%|          | 2/190 [00:00<00:10, 18.14it/s, now=None]"
     ]
    },
    {
     "name": "stdout",
     "output_type": "stream",
     "text": [
      "Moviepy - Building video Meme_But thisAmitabh .mp4.\n",
      "MoviePy - Writing audio in Meme_But thisAmitabh TEMP_MPY_wvf_snd.mp3\n"
     ]
    },
    {
     "name": "stderr",
     "output_type": "stream",
     "text": [
      "t:   1%|          | 2/206 [00:00<00:11, 17.36it/s, now=None]      "
     ]
    },
    {
     "name": "stdout",
     "output_type": "stream",
     "text": [
      "MoviePy - Done.\n",
      "Moviepy - Writing video Meme_But thisAmitabh .mp4\n",
      "\n"
     ]
    },
    {
     "name": "stderr",
     "output_type": "stream",
     "text": [
      "                                                              \r"
     ]
    },
    {
     "name": "stdout",
     "output_type": "stream",
     "text": [
      "Moviepy - Done !\n",
      "Moviepy - video ready Meme_But thisAmitabh .mp4\n",
      "anger: 0.13135451\n",
      "fear: 0.75693786\n",
      "joy: 0.022167336\n",
      "sadness: 0.08954038\n",
      "Amitabh Bachchan apologises to fan for using her poem without due credit: Latter says want your love not sorry - PINKVILLA : Who the hell are you guys?\n"
     ]
    },
    {
     "name": "stderr",
     "output_type": "stream",
     "text": [
      "chunk:  21%|██        | 21/99 [00:00<00:00, 209.86it/s, now=None]"
     ]
    },
    {
     "name": "stdout",
     "output_type": "stream",
     "text": [
      "Moviepy - Building video Meme_Who the Amitabh .mp4.\n",
      "MoviePy - Writing audio in Meme_Who the Amitabh TEMP_MPY_wvf_snd.mp3\n"
     ]
    },
    {
     "name": "stderr",
     "output_type": "stream",
     "text": [
      "t:   2%|▏         | 2/108 [00:00<00:06, 17.24it/s, now=None]     "
     ]
    },
    {
     "name": "stdout",
     "output_type": "stream",
     "text": [
      "MoviePy - Done.\n",
      "Moviepy - Writing video Meme_Who the Amitabh .mp4\n",
      "\n"
     ]
    },
    {
     "name": "stderr",
     "output_type": "stream",
     "text": [
      "                                                              \r"
     ]
    },
    {
     "name": "stdout",
     "output_type": "stream",
     "text": [
      "Moviepy - Done !\n",
      "Moviepy - video ready Meme_Who the Amitabh .mp4\n"
     ]
    }
   ],
   "source": [
    "getMeme(dialogs,news)"
   ]
  },
  {
   "cell_type": "code",
   "execution_count": null,
   "metadata": {},
   "outputs": [],
   "source": []
  }
 ],
 "metadata": {
  "kernelspec": {
   "display_name": "Python 3",
   "language": "python",
   "name": "python3"
  },
  "language_info": {
   "codemirror_mode": {
    "name": "ipython",
    "version": 3
   },
   "file_extension": ".py",
   "mimetype": "text/x-python",
   "name": "python",
   "nbconvert_exporter": "python",
   "pygments_lexer": "ipython3",
   "version": "3.8.3"
  }
 },
 "nbformat": 4,
 "nbformat_minor": 4
}
