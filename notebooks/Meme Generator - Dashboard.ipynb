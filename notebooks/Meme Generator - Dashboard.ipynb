{
 "cells": [
  {
   "cell_type": "code",
   "execution_count": 1,
   "metadata": {},
   "outputs": [
    {
     "data": {
      "application/javascript": [
       "IPython.OutputArea.prototype._should_scroll = function(lines) {\n",
       "    return false;\n",
       "}\n"
      ],
      "text/plain": [
       "<IPython.core.display.Javascript object>"
      ]
     },
     "metadata": {},
     "output_type": "display_data"
    }
   ],
   "source": [
    "%%javascript\n",
    "IPython.OutputArea.prototype._should_scroll = function(lines) {\n",
    "    return false;\n",
    "}"
   ]
  },
  {
   "cell_type": "code",
   "execution_count": 39,
   "metadata": {},
   "outputs": [],
   "source": [
    "from pytube import YouTube\n",
    "import os\n",
    "from moviepy.video.io.ffmpeg_tools import ffmpeg_extract_subclip\n",
    "from moviepy.editor import *\n",
    "import requests\n",
    "\n",
    "import pickle\n",
    "import sys\n",
    "from pathlib import Path\n",
    "from tensorflow.keras.layers import Input, Embedding, SpatialDropout1D, LSTM\n",
    "from tensorflow.keras.layers import GlobalAveragePooling1D, GlobalMaxPooling1D\n",
    "from tensorflow.keras.layers import Bidirectional, Conv1D, Dense, concatenate\n",
    "from tensorflow.keras.models import Model\n",
    "import pandas as pd\n",
    "from tensorflow.keras.preprocessing.sequence import pad_sequences\n",
    "import numpy as np\n",
    "\n",
    "from IPython.display import display\n",
    "import ipywidgets as widgets\n",
    "from ipywidgets import Button, HBox, VBox\n",
    "import pysrt\n",
    "import re"
   ]
  },
  {
   "cell_type": "code",
   "execution_count": 3,
   "metadata": {},
   "outputs": [],
   "source": [
    "SAVE_PATH = \"C:\\\\Users\\\\leena\\\\Desktop\\\\Python Projects\\\\emotion-from-tweet\\\\notebooks\"\n",
    "filename = \"video2.mp4\""
   ]
  },
  {
   "cell_type": "code",
   "execution_count": 4,
   "metadata": {},
   "outputs": [],
   "source": [
    "sys.path.append(Path(os.path.join(os.path.abspath(''), '../')).resolve().as_posix())\n",
    "tokenizer_path = Path('../datasets/sentiment_analysis/tokenizer.pickle').resolve()\n",
    "with tokenizer_path.open('rb') as file:\n",
    "    tokenizer = pickle.load(file)\n",
    "\n",
    "input_dim = min(tokenizer.num_words, len(tokenizer.word_index) + 1)\n",
    "num_classes = 4\n",
    "embedding_dim = 500\n",
    "input_length = 100\n",
    "lstm_units = 128\n",
    "lstm_dropout = 0.1\n",
    "recurrent_dropout = 0.1\n",
    "spatial_dropout=0.2\n",
    "filters=64\n",
    "kernel_size=3\n",
    "\n",
    "input_layer = Input(shape=(input_length,))\n",
    "output_layer = Embedding(\n",
    "  input_dim=input_dim,\n",
    "  output_dim=embedding_dim,\n",
    "  input_shape=(input_length,)\n",
    ")(input_layer)\n",
    "\n",
    "output_layer = SpatialDropout1D(spatial_dropout)(output_layer)\n",
    "\n",
    "output_layer = Bidirectional(\n",
    "LSTM(lstm_units, return_sequences=True,\n",
    "     dropout=lstm_dropout, recurrent_dropout=recurrent_dropout)\n",
    ")(output_layer)\n",
    "output_layer = Conv1D(filters, kernel_size=kernel_size, padding='valid',\n",
    "                    kernel_initializer='glorot_uniform')(output_layer)\n",
    "\n",
    "avg_pool = GlobalAveragePooling1D()(output_layer)\n",
    "max_pool = GlobalMaxPooling1D()(output_layer)\n",
    "output_layer = concatenate([avg_pool, max_pool])\n",
    "\n",
    "output_layer = Dense(num_classes, activation='softmax')(output_layer)\n",
    "\n",
    "model = Model(input_layer, output_layer)\n",
    "\n",
    "model_weights_path = Path('../models/emotion_recognition/model_weights.h5').resolve()\n",
    "model.load_weights(model_weights_path.as_posix())\n",
    "encoder_path = Path('../models/emotion_recognition/encoder.pickle').resolve()\n",
    "with encoder_path.open('rb') as file:\n",
    "    encoder = pickle.load(file)"
   ]
  },
  {
   "cell_type": "code",
   "execution_count": 5,
   "metadata": {},
   "outputs": [],
   "source": [
    "def downloadVideo(link):\n",
    "    yt = YouTube(link)\n",
    "    stream = yt.streams.first()\n",
    "    out_file = stream.download(SAVE_PATH)\n",
    "    os.rename(out_file, filename)\n",
    "    print(\"Download successful - \" + str(out_file))"
   ]
  },
  {
   "cell_type": "code",
   "execution_count": 21,
   "metadata": {},
   "outputs": [],
   "source": [
    "def generateCaptions(link,lang):\n",
    "    yt = YouTube(link)\n",
    "    print(yt.captions.all())\n",
    "    en_caption = yt.captions.get_by_language_code(lang)\n",
    "    en_caption_convert_to_srt =(en_caption.generate_srt_captions())\n",
    "    text_file = open(\"captions.srt\", \"w\")\n",
    "    text_file.write(en_caption_convert_to_srt)\n",
    "    text_file.close()"
   ]
  },
  {
   "cell_type": "code",
   "execution_count": 40,
   "metadata": {},
   "outputs": [],
   "source": [
    "def parseSubtitles():\n",
    "    sub = pysrt.open(\"captions.srt\")\n",
    "    global dialogs\n",
    "    global start\n",
    "    global end\n",
    "    dialogs = []\n",
    "    start = []\n",
    "    end = []\n",
    "    for obj in sub:\n",
    "        s = obj.text\n",
    "        s = re.sub(r'[^\\w\\s]','',s)\n",
    "        dialogs.append(s)\n",
    "        start.append((obj.start.minutes * 60) + obj.start.seconds)\n",
    "        end.append((obj.end.minutes * 60) + obj.end.seconds)\n",
    "        print(obj)"
   ]
  },
  {
   "cell_type": "code",
   "execution_count": 25,
   "metadata": {},
   "outputs": [],
   "source": [
    "def splitVideo():\n",
    "    for i in range(len(dialogs)):\n",
    "        ffmpeg_extract_subclip(filename, start[i],end[i], targetname=dialogs[i][:8]+\".mp4\")"
   ]
  },
  {
   "cell_type": "code",
   "execution_count": 9,
   "metadata": {},
   "outputs": [],
   "source": [
    "def fetchNews(country,category):\n",
    "    response = requests.get(\"http://newsapi.org/v2/top-headlines?country=\"+country+\"&category=\"+category+\"&apiKey=469e3b5dc7b44bf6ae90867fe0e8fd5c\")\n",
    "    data = response.json()\n",
    "    global articles\n",
    "    global news\n",
    "    news = []\n",
    "    articles = data['articles']\n",
    "    for article in articles:\n",
    "        print(article['title'])\n",
    "        title_parts = article['title'].split(\" - \")\n",
    "        text = title_parts[0] + article['description']\n",
    "        news.append(text)"
   ]
  },
  {
   "cell_type": "code",
   "execution_count": 10,
   "metadata": {},
   "outputs": [],
   "source": [
    "def calculateEmotion(selected):\n",
    "    sequences = [text.split() for text in selected]\n",
    "    list_tokenized = tokenizer.texts_to_sequences(sequences)\n",
    "    x_data = pad_sequences(list_tokenized, maxlen=100)\n",
    "\n",
    "    y_pred = model.predict(x_data)\n",
    "    emo = dict()\n",
    "    for index, value in enumerate(np.sum(y_pred, axis=0) / len(y_pred)):\n",
    "        print(encoder.classes_[index] + \": \" + str(value))\n",
    "        emo[encoder.classes_[index]]=value"
   ]
  },
  {
   "cell_type": "code",
   "execution_count": 11,
   "metadata": {},
   "outputs": [],
   "source": [
    "def insert_newlines(string, every=64):\n",
    "    return '\\n'.join(string[i:i+every] for i in range(0, len(string), every))"
   ]
  },
  {
   "cell_type": "code",
   "execution_count": 12,
   "metadata": {},
   "outputs": [],
   "source": [
    "def generateFinalOutput(videoClip,text, dialog):\n",
    "    clip = VideoFileClip(videoClip)  \n",
    "    text = insert_newlines(text)\n",
    "    dialog = insert_newlines(dialog)\n",
    "    time = clip.duration\n",
    "    txt_clip = TextClip(text, fontsize = 22, color = 'white') \n",
    "    txt_clip2 = TextClip(dialog, fontsize = 15, color = 'yellow')\n",
    "    txt_clip = txt_clip.set_pos('top').set_duration(time) \n",
    "    txt_clip2 = txt_clip2.set_pos('bottom').set_duration(time) \n",
    "    video = CompositeVideoClip([clip, txt_clip,txt_clip2])  \n",
    "    video.write_videofile('Meme_'+videoClip[:8] + text[:8]+ '.mp4')"
   ]
  },
  {
   "cell_type": "code",
   "execution_count": 13,
   "metadata": {},
   "outputs": [],
   "source": [
    "def getMeme(dialogs,news):\n",
    "    movie_line = 0\n",
    "    pairs = dict()\n",
    "    global_diff = 6\n",
    "    for j in range(len(dialogs)):\n",
    "        selected = dialogs[j]\n",
    "        sequences = [text.split() for text in selected]\n",
    "        list_tokenized = tokenizer.texts_to_sequences(sequences)\n",
    "        x_data = pad_sequences(list_tokenized, maxlen=100)\n",
    "\n",
    "        y_pred = model.predict(x_data)\n",
    "        emo = dict()\n",
    "        for index, value in enumerate(np.sum(y_pred, axis=0) / len(y_pred)):\n",
    "            print(encoder.classes_[index] + \": \" + str(value))\n",
    "            emo[encoder.classes_[index]]=value\n",
    "\n",
    "        min_diff = 3\n",
    "        news_line = 0\n",
    "        for i in range(len(news)):\n",
    "            cleaned_data = news[i]\n",
    "            sequences = [text.split() for text in cleaned_data]\n",
    "            list_tokenized = tokenizer.texts_to_sequences(sequences)\n",
    "            x_data = pad_sequences(list_tokenized, maxlen=100)\n",
    "\n",
    "            y_pred = model.predict(x_data)\n",
    "\n",
    "            cur_diff = 0\n",
    "            for index, value in enumerate(np.sum(y_pred, axis=0) / len(y_pred)):\n",
    "                cur_diff += abs(emo[encoder.classes_[index]] - value)\n",
    "\n",
    "            if cur_diff < min_diff:\n",
    "                news_line = i\n",
    "                min_diff = cur_diff\n",
    "\n",
    "        if min_diff < global_diff:\n",
    "            movie_line = j\n",
    "            global_diff = min_diff\n",
    "            \n",
    "        disp = articles[news_line]['title'] + \" : \" + dialogs[j]\n",
    "        print(articles[news_line]['title'] + \" : \" + dialogs[j] )\n",
    "        text = insert_newlines(disp,40)\n",
    "        generateFinalOutput(dialogs[j][:8] + '.mp4', articles[news_line]['title'], dialogs[j] )\n",
    "        pairs[j] = news_line\n",
    "    \n",
    "    print(\"Final Output --> \"+ news[pairs[movie_line]] + \" : \" + dialogs[movie_line])"
   ]
  },
  {
   "cell_type": "code",
   "execution_count": 14,
   "metadata": {},
   "outputs": [],
   "source": [
    "def getDialogMeme(selected,file):\n",
    "    sequences = [text.split() for text in selected]\n",
    "    list_tokenized = tokenizer.texts_to_sequences(sequences)\n",
    "    x_data = pad_sequences(list_tokenized, maxlen=100)\n",
    "\n",
    "    y_pred = model.predict(x_data)\n",
    "    emo = dict()\n",
    "    for index, value in enumerate(np.sum(y_pred, axis=0) / len(y_pred)):\n",
    "        print(encoder.classes_[index] + \": \" + str(value))\n",
    "        emo[encoder.classes_[index]]=value\n",
    "        \n",
    "    min_diff = 5\n",
    "    ans = 0\n",
    "    for i in range(len(news)):\n",
    "        cleaned_data = news[i]\n",
    "        sequences = [text.split() for text in cleaned_data]\n",
    "        list_tokenized = tokenizer.texts_to_sequences(sequences)\n",
    "        x_data = pad_sequences(list_tokenized, maxlen=100)\n",
    "\n",
    "        y_pred = model.predict(x_data)\n",
    "\n",
    "        cur_diff = 0\n",
    "        for index, value in enumerate(np.sum(y_pred, axis=0) / len(y_pred)):\n",
    "            cur_diff += abs(emo[encoder.classes_[index]] - value)\n",
    "\n",
    "        if cur_diff < min_diff:\n",
    "            ans = i\n",
    "            min_diff = cur_diff\n",
    "            \n",
    "    print(news[ans] + \" : \" + selected)\n",
    "    generateFinalOutput(file, news[ans], selected )"
   ]
  },
  {
   "cell_type": "code",
   "execution_count": 15,
   "metadata": {},
   "outputs": [],
   "source": [
    "def demoInfinityWarTrailer():\n",
    "    link = \"https://www.youtube.com/watch?v=6ZfuNTqbHE8&t\"\n",
    "    print(\"Downloading video...\")\n",
    "    downloadVideo(link)\n",
    "    subs = \"There was an idea, to bring together a group of remarkable people, to see if we could become something more. So when they needed us we could fight the battles that they never could. In time, you'll know what it's like to lose. To feel so desperately that you're right, that you fail all the same. Dread it, Run from it. Destiny still arrives. Evacuate the city. Engage all defences and get this man a shield. Fun isn't something one considers the balance in the universe. But this does put a smile on my face. Who the hell are you guys?\"\n",
    "    global dialogs\n",
    "    global start\n",
    "    global end\n",
    "    dialogs = subs.split(\". \")\n",
    "    start=[4,20,45,51,61,67,77,80,97,104,135]\n",
    "    end=[18,29,50,56,66,71,79,86,102,111,139]\n",
    "    print(\"Splitting video...\")\n",
    "    splitVideo()\n",
    "    print(\"Fetching news...\")\n",
    "    fetchNews('in','entertainment')\n",
    "    print(\"Generating all Memes...\")\n",
    "    getMeme(dialogs,news)"
   ]
  },
  {
   "cell_type": "code",
   "execution_count": 42,
   "metadata": {},
   "outputs": [],
   "source": [
    "textYoutubeLink = widgets.Text(\n",
    "    placeholder='Enter youtube video link',\n",
    "    description='Youtube: ',\n",
    "    disabled=False\n",
    ")\n",
    "\n",
    "def clickedDownload(arg): \n",
    "    downloadVideo(textYoutubeLink.value)\n",
    "    \n",
    "button_download = Button(description = 'Download Video')   \n",
    "button_download.on_click(clickedDownload)\n",
    "\n",
    "caption_code = 'en'\n",
    "def clickedSplit(arg):\n",
    "    generateCaptions(textYoutubeLink.value,caption_code)\n",
    "    parseSubtitles()\n",
    "    splitVideo()\n",
    "    print(\"Video splitting successful!\")\n",
    "    \n",
    "button_split = Button(description = 'Split Video')   \n",
    "button_split.on_click(clickedSplit)\n",
    "\n",
    "selCountry = widgets.Select(options=['ae','ar','at','au','be','bg','br','ca','ch','cn','co','cu','cz','de','eg','fr','gb','gr','hk','hu','id','ie','il','in','it','jp','kr','lt','lv','ma','mx','my','ng','nl','no','nz','ph','pl','pt','ro','rs','ru','sa','se','sg','si','sk','th','tr','tw','ua','us','ve','za'],value = 'in', rows = 1, description = 'Country: ')\n",
    "selCategory = widgets.Select(options=['business','entertainment','general','health','science','sports','technology'],value = 'entertainment', rows = 7, description = 'Category: ')\n",
    "\n",
    "def clickedNews(arg): \n",
    "    fetchNews(selCountry.value,selCategory.value)\n",
    "    \n",
    "button_news = Button(description = 'Fetch News')   \n",
    "button_news.on_click(clickedNews)\n",
    "\n",
    "def clickedGenerate(arg): \n",
    "    getMeme(dialogs,news)\n",
    "    \n",
    "button_generate = Button(description = 'Generate All Memes')   \n",
    "button_generate.on_click(clickedGenerate)\n",
    "\n",
    "def clickedFull(arg):\n",
    "    demoInfinityWarTrailer()\n",
    "    \n",
    "button_demo = Button(description = 'Generate All Memes')   \n",
    "button_demo.on_click(clickedFull)\n",
    "\n",
    "textFilename = widgets.Text(\n",
    "    value=filename,\n",
    "    placeholder='Enter file name',\n",
    "    description='File Name: ',\n",
    "    disabled=False\n",
    ")\n",
    "\n",
    "dialog_text = \"But this does put a smile on my face.\"\n",
    "def clickedOneMeme(arg): \n",
    "    getDialogMeme(txtml.value,textFilename.value)\n",
    "\n",
    "txtml = widgets.Textarea(value=dialog_text,placeholder = \"Type the dialog\", description = \"Enter dialog: \")\n",
    "button_meme = Button(description = 'Generate Meme')   \n",
    "button_meme.on_click(clickedOneMeme)\n",
    "\n",
    "txtCustom = widgets.Textarea(placeholder = \"Custom Meme line\", description = \"Enter line: \")\n",
    "def clickedCustom(arg): \n",
    "    generateFinalOutput(textFilename.value, txtCustom.value, txtml.value )\n",
    "    \n",
    "button_custom = Button(description = 'Custom Meme')   \n",
    "button_custom.on_click(clickedCustom)\n"
   ]
  },
  {
   "cell_type": "code",
   "execution_count": 43,
   "metadata": {},
   "outputs": [
    {
     "name": "stdout",
     "output_type": "stream",
     "text": [
      "Meme Builder Dashboard\n"
     ]
    },
    {
     "data": {
      "application/vnd.jupyter.widget-view+json": {
       "model_id": "2d7b15b4d0df46f789bba04549b9f7d9",
       "version_major": 2,
       "version_minor": 0
      },
      "text/plain": [
       "Button(description='Generate All Memes', style=ButtonStyle())"
      ]
     },
     "metadata": {},
     "output_type": "display_data"
    },
    {
     "data": {
      "application/vnd.jupyter.widget-view+json": {
       "model_id": "bc81f8f607d04fc2b6c6dfef81400028",
       "version_major": 2,
       "version_minor": 0
      },
      "text/plain": [
       "HBox(children=(Text(value='', description='Youtube: ', placeholder='Enter youtube video link'), Button(descrip…"
      ]
     },
     "metadata": {},
     "output_type": "display_data"
    },
    {
     "data": {
      "application/vnd.jupyter.widget-view+json": {
       "model_id": "0b53b2e1edab473da67baed639b1f785",
       "version_major": 2,
       "version_minor": 0
      },
      "text/plain": [
       "Select(description='Category: ', index=1, options=('business', 'entertainment', 'general', 'health', 'science'…"
      ]
     },
     "metadata": {},
     "output_type": "display_data"
    },
    {
     "data": {
      "application/vnd.jupyter.widget-view+json": {
       "model_id": "73593bc71f9c4169bbd79e5dd3b792fa",
       "version_major": 2,
       "version_minor": 0
      },
      "text/plain": [
       "Select(description='Country: ', index=23, options=('ae', 'ar', 'at', 'au', 'be', 'bg', 'br', 'ca', 'ch', 'cn',…"
      ]
     },
     "metadata": {},
     "output_type": "display_data"
    },
    {
     "data": {
      "application/vnd.jupyter.widget-view+json": {
       "model_id": "f2c3a0ef02bb4ccfb2530ee9870746f5",
       "version_major": 2,
       "version_minor": 0
      },
      "text/plain": [
       "HBox(children=(Button(description='Fetch News', style=ButtonStyle()), Button(description='Generate All Memes',…"
      ]
     },
     "metadata": {},
     "output_type": "display_data"
    },
    {
     "data": {
      "application/vnd.jupyter.widget-view+json": {
       "model_id": "a44cbcba7a104ae1b103e453e4ee0a8d",
       "version_major": 2,
       "version_minor": 0
      },
      "text/plain": [
       "HBox(children=(Textarea(value='But this does put a smile on my face.', description='Enter dialog: ', placehold…"
      ]
     },
     "metadata": {},
     "output_type": "display_data"
    },
    {
     "data": {
      "application/vnd.jupyter.widget-view+json": {
       "model_id": "2923db60fde849e991cc6f9c667bd017",
       "version_major": 2,
       "version_minor": 0
      },
      "text/plain": [
       "HBox(children=(Textarea(value='', description='Enter line: ', placeholder='Custom Meme line'), Button(descript…"
      ]
     },
     "metadata": {},
     "output_type": "display_data"
    },
    {
     "name": "stdout",
     "output_type": "stream",
     "text": [
      "anger: 0.13246757\n",
      "fear: 0.75783014\n",
      "joy: 0.02189254\n",
      "sadness: 0.08780966\n",
      "The Hindu Explains | Why is the RBI worried when volume of bad loans declined in the September quarter? - The Hindu :  You knew him didnt you\n"
     ]
    },
    {
     "name": "stderr",
     "output_type": "stream",
     "text": [
      "chunk:   9%|▊         | 2/23 [00:00<00:01, 14.54it/s, now=None]"
     ]
    },
    {
     "name": "stdout",
     "output_type": "stream",
     "text": [
      "Moviepy - Building video Meme_ You kneThe Hind.mp4.\n",
      "MoviePy - Writing audio in Meme_ You kneThe HindTEMP_MPY_wvf_snd.mp3\n"
     ]
    },
    {
     "name": "stderr",
     "output_type": "stream",
     "text": [
      "t:   8%|▊         | 2/25 [00:00<00:01, 14.43it/s, now=None]    "
     ]
    },
    {
     "name": "stdout",
     "output_type": "stream",
     "text": [
      "MoviePy - Done.\n",
      "Moviepy - Writing video Meme_ You kneThe Hind.mp4\n",
      "\n"
     ]
    },
    {
     "name": "stderr",
     "output_type": "stream",
     "text": [
      "                                                            \r"
     ]
    },
    {
     "name": "stdout",
     "output_type": "stream",
     "text": [
      "Moviepy - Done !\n",
      "Moviepy - video ready Meme_ You kneThe Hind.mp4\n",
      "anger: 0.13349234\n",
      "fear: 0.75177824\n",
      "joy: 0.021578694\n",
      "sadness: 0.09315079\n",
      "India: AstraZeneca COVID-19 vaccine approved for emergency use | COVID-19 News - WION : Then you had that one little feeling\n"
     ]
    },
    {
     "name": "stderr",
     "output_type": "stream",
     "text": [
      "chunk:   2%|▏         | 2/89 [00:00<00:07, 12.08it/s, now=None]"
     ]
    },
    {
     "name": "stdout",
     "output_type": "stream",
     "text": [
      "Moviepy - Building video Meme_Then youIndia: A.mp4.\n",
      "MoviePy - Writing audio in Meme_Then youIndia: ATEMP_MPY_wvf_snd.mp3\n"
     ]
    },
    {
     "name": "stderr",
     "output_type": "stream",
     "text": [
      "t:   2%|▏         | 2/97 [00:00<00:06, 13.71it/s, now=None]     "
     ]
    },
    {
     "name": "stdout",
     "output_type": "stream",
     "text": [
      "MoviePy - Done.\n",
      "Moviepy - Writing video Meme_Then youIndia: A.mp4\n",
      "\n"
     ]
    },
    {
     "name": "stderr",
     "output_type": "stream",
     "text": [
      "                                                            \r"
     ]
    },
    {
     "name": "stdout",
     "output_type": "stream",
     "text": [
      "Moviepy - Done !\n",
      "Moviepy - video ready Meme_Then youIndia: A.mp4\n",
      "anger: 0.13328211\n",
      "fear: 0.7574643\n",
      "joy: 0.022103954\n",
      "sadness: 0.08714958\n",
      "The Hindu Explains | Why is the RBI worried when volume of bad loans declined in the September quarter? - The Hindu : But you waved it away\n"
     ]
    },
    {
     "name": "stderr",
     "output_type": "stream",
     "text": [
      "\r",
      "chunk:   0%|          | 0/67 [00:00<?, ?it/s, now=None]"
     ]
    },
    {
     "name": "stdout",
     "output_type": "stream",
     "text": [
      "Moviepy - Building video Meme_But you The Hind.mp4.\n",
      "MoviePy - Writing audio in Meme_But you The HindTEMP_MPY_wvf_snd.mp3\n"
     ]
    },
    {
     "name": "stderr",
     "output_type": "stream",
     "text": [
      "t:   3%|▎         | 2/73 [00:00<00:05, 13.38it/s, now=None]      "
     ]
    },
    {
     "name": "stdout",
     "output_type": "stream",
     "text": [
      "MoviePy - Done.\n",
      "Moviepy - Writing video Meme_But you The Hind.mp4\n",
      "\n"
     ]
    },
    {
     "name": "stderr",
     "output_type": "stream",
     "text": [
      "                                                            \r"
     ]
    },
    {
     "name": "stdout",
     "output_type": "stream",
     "text": [
      "Moviepy - Done !\n",
      "Moviepy - video ready Meme_But you The Hind.mp4\n",
      "anger: 0.13286932\n",
      "fear: 0.75414085\n",
      "joy: 0.02157223\n",
      "sadness: 0.09141782\n",
      "2021 MG ZS Petrol Spied Testing Ahead Of Launch In India - GaadiWaadi.com : You shouldve listened to that one little feeling\n"
     ]
    },
    {
     "name": "stderr",
     "output_type": "stream",
     "text": [
      "t:   0%|          | 0/49 [00:00<?, ?it/s, now=None]              "
     ]
    },
    {
     "name": "stdout",
     "output_type": "stream",
     "text": [
      "Moviepy - Building video Meme_You shou2021 MG .mp4.\n",
      "MoviePy - Writing audio in Meme_You shou2021 MG TEMP_MPY_wvf_snd.mp3\n",
      "MoviePy - Done.\n",
      "Moviepy - Writing video Meme_You shou2021 MG .mp4\n",
      "\n"
     ]
    },
    {
     "name": "stderr",
     "output_type": "stream",
     "text": [
      "                                                            \r"
     ]
    },
    {
     "name": "stdout",
     "output_type": "stream",
     "text": [
      "Moviepy - Done !\n",
      "Moviepy - video ready Meme_You shou2021 MG .mp4\n",
      "anger: 0.1320809\n",
      "fear: 0.75454754\n",
      "joy: 0.021690624\n",
      "sadness: 0.09168104\n",
      "Imports go up for 1st time since last Feb, exports dip 0.8% - Times of India : Just like Im listening to you now\n"
     ]
    },
    {
     "name": "stderr",
     "output_type": "stream",
     "text": [
      "chunk:   2%|▏         | 2/133 [00:00<00:07, 17.54it/s, now=None]"
     ]
    },
    {
     "name": "stdout",
     "output_type": "stream",
     "text": [
      "Moviepy - Building video Meme_Just likImports .mp4.\n",
      "MoviePy - Writing audio in Meme_Just likImports TEMP_MPY_wvf_snd.mp3\n"
     ]
    },
    {
     "name": "stderr",
     "output_type": "stream",
     "text": [
      "t:   1%|▏         | 2/145 [00:00<00:07, 18.34it/s, now=None]      "
     ]
    },
    {
     "name": "stdout",
     "output_type": "stream",
     "text": [
      "MoviePy - Done.\n",
      "Moviepy - Writing video Meme_Just likImports .mp4\n",
      "\n"
     ]
    },
    {
     "name": "stderr",
     "output_type": "stream",
     "text": [
      "                                                               \r"
     ]
    },
    {
     "name": "stdout",
     "output_type": "stream",
     "text": [
      "Moviepy - Done !\n",
      "Moviepy - video ready Meme_Just likImports .mp4\n",
      "anger: 0.12955044\n",
      "fear: 0.76048845\n",
      "joy: 0.02161403\n",
      "sadness: 0.08834695\n",
      "Tata Altroz EV To Be Launched This Year – 5 Things To Know - GaadiWaadi.com : You can talk to me\n"
     ]
    },
    {
     "name": "stderr",
     "output_type": "stream",
     "text": [
      "chunk:   3%|▎         | 2/67 [00:00<00:03, 17.84it/s, now=None]"
     ]
    },
    {
     "name": "stdout",
     "output_type": "stream",
     "text": [
      "Moviepy - Building video Meme_You can Tata Alt.mp4.\n",
      "MoviePy - Writing audio in Meme_You can Tata AltTEMP_MPY_wvf_snd.mp3\n"
     ]
    },
    {
     "name": "stderr",
     "output_type": "stream",
     "text": [
      "t:  10%|▉         | 7/73 [00:00<00:01, 61.06it/s, now=None]     "
     ]
    },
    {
     "name": "stdout",
     "output_type": "stream",
     "text": [
      "MoviePy - Done.\n",
      "Moviepy - Writing video Meme_You can Tata Alt.mp4\n",
      "\n"
     ]
    },
    {
     "name": "stderr",
     "output_type": "stream",
     "text": [
      "                                                            \r"
     ]
    },
    {
     "name": "stdout",
     "output_type": "stream",
     "text": [
      "Moviepy - Done !\n",
      "Moviepy - video ready Meme_You can Tata Alt.mp4\n",
      "anger: 0.1325786\n",
      "fear: 0.7499577\n",
      "joy: 0.021175258\n",
      "sadness: 0.09628853\n"
     ]
    }
   ],
   "source": [
    "filename = \"video3.mp4\"\n",
    "caption_code = 'en-US'\n",
    "print(\"Meme Builder Dashboard\")\n",
    "display(button_demo)\n",
    "display(HBox([textYoutubeLink,button_download,button_split]))\n",
    "display(selCategory)\n",
    "display(selCountry)\n",
    "display(HBox([button_news,button_generate]))\n",
    "#display(txtml)\n",
    "display(HBox([txtml,textFilename,button_meme]))\n",
    "display(HBox([txtCustom,button_custom]))"
   ]
  },
  {
   "cell_type": "code",
   "execution_count": null,
   "metadata": {},
   "outputs": [],
   "source": []
  }
 ],
 "metadata": {
  "kernelspec": {
   "display_name": "Python 3",
   "language": "python",
   "name": "python3"
  },
  "language_info": {
   "codemirror_mode": {
    "name": "ipython",
    "version": 3
   },
   "file_extension": ".py",
   "mimetype": "text/x-python",
   "name": "python",
   "nbconvert_exporter": "python",
   "pygments_lexer": "ipython3",
   "version": "3.8.3"
  }
 },
 "nbformat": 4,
 "nbformat_minor": 4
}
